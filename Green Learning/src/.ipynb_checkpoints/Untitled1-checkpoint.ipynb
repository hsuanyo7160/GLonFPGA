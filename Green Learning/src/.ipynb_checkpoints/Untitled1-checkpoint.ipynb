{
 "cells": [
  {
   "cell_type": "code",
   "execution_count": 24,
   "id": "c92ba7d0-b288-40db-9082-6fbe74eebbb5",
   "metadata": {},
   "outputs": [
    {
     "name": "stdout",
     "output_type": "stream",
     "text": [
      "Found 5200 signal files.\n",
      "Training set size: 3120, SNR size: 3120\n",
      "Test set size: 2080, SNR size: 2080\n"
     ]
    }
   ],
   "source": [
    "import glob\n",
    "import os\n",
    "import numpy as np\n",
    "from scipy.io import loadmat\n",
    "\n",
    "def import_data_signal(root, train_ratio=0.6):\n",
    "    signals = []\n",
    "    labels = []\n",
    "    snr_values = []\n",
    "\n",
    "\n",
    "    for label_dir, label in [('signal1', 1), ('signal0', 0)]:\n",
    "        full_dir = os.path.join(root, label_dir)\n",
    "        if not os.path.exists(full_dir):\n",
    "            print(f\"Directory {full_dir} does not exist.\")\n",
    "            continue\n",
    "\n",
    "\n",
    "        for filepath in glob.glob(os.path.join(full_dir, '*.mat')):\n",
    "            try:\n",
    "\n",
    "                mat_data = loadmat(filepath)\n",
    "\n",
    "\n",
    "                if 'feature' in mat_data:  \n",
    "                    signal = mat_data['feature'] \n",
    "                else:\n",
    "                    raise KeyError(f\"'feature' key not found in {filepath}. Available keys: {mat_data.keys()}\")\n",
    "\n",
    "\n",
    "                signal = np.array(signal, dtype=np.float32).reshape(64, 4, 1)\n",
    "                signals.append(signal)\n",
    "                labels.append(label)\n",
    "\n",
    "       \n",
    "                filename = os.path.basename(filepath)  \n",
    "                snr_str = filename.split('_')[1]  \n",
    "                snr = float(snr_str)  \n",
    "                snr_values.append(snr)\n",
    "            except Exception as e:\n",
    "                print(f\"Error loading {filepath}: {e}\")\n",
    "\n",
    "    print(f\"Found {len(signals)} signal files.\")\n",
    "\n",
    "    if len(signals) == 0:\n",
    "        raise ValueError(\"No signal files found. Check if the directories are correctly named and contain files.\")\n",
    "\n",
    "\n",
    "    combined = list(zip(signals, labels, snr_values))\n",
    "    np.random.shuffle(combined)\n",
    "    signals[:], labels[:], snr_values[:] = zip(*combined)\n",
    "\n",
    "\n",
    "    num_samples = len(signals)\n",
    "    num_train = int(train_ratio * num_samples)\n",
    "\n",
    "    train_images = np.array(signals[:num_train])\n",
    "    train_labels = np.array(labels[:num_train])\n",
    "    train_snr = np.array(snr_values[:num_train])  \n",
    "\n",
    "    test_images = np.array(signals[num_train:])\n",
    "    test_labels = np.array(labels[num_train:])\n",
    "    test_snr = np.array(snr_values[num_train:])  \n",
    "\n",
    "\n",
    "    class_list = [0, 1] \n",
    "    return train_images, train_labels, train_snr, test_images, test_labels, test_snr, class_list\n",
    "\n",
    "\n",
    "root_dir = 'C:\\\\Users\\\\yoyo2\\\\OneDrive\\\\桌面\\專題\\\\gl\\\\dataset'\n",
    "\n",
    "\n",
    "train_images, train_labels, train_snr, test_images, test_labels, test_snr, class_list = import_data_signal(root_dir)\n",
    "\n",
    "print(f\"Training set size: {len(train_images)}, SNR size: {len(train_snr)}\")\n",
    "print(f\"Test set size: {len(test_images)}, SNR size: {len(test_snr)}\")"
   ]
  },
  {
   "cell_type": "code",
   "execution_count": 25,
   "id": "24d57784-44e8-4c28-871c-77a97baced30",
   "metadata": {},
   "outputs": [
    {
     "name": "stdout",
     "output_type": "stream",
     "text": [
      "(3120, 64, 4, 1)\n",
      "(2080, 64, 4, 1)\n",
      "(3120,)\n",
      "(2080,)\n",
      "[0, 1]\n"
     ]
    }
   ],
   "source": [
    "print(train_images.shape)\n",
    "print(test_images.shape)\n",
    "print(train_labels.shape)\n",
    "print(test_labels.shape)\n",
    "print(class_list)"
   ]
  },
  {
   "cell_type": "code",
   "execution_count": 26,
   "id": "eca9c78a-10c1-4409-a5be-883264010543",
   "metadata": {
    "scrolled": true
   },
   "outputs": [
    {
     "name": "stdout",
     "output_type": "stream",
     "text": [
      "=========== Start: PixelHop_Unit\n",
      "------------------- Start: PixelHop_8_Neighbour\n",
      "       <Info>        Input feature shape: (3120, 64, 4, 1)\n",
      "       <Info>        dilate: 1\n",
      "       <Info>        padding: reflect\n",
      "       <Info>        Output feature shape: (3120, 64, 4, 9)\n",
      "------------------- End: PixelHop_8_Neighbour -> using   0.029004 seconds\n",
      "------------------- Start: Saab transformation\n",
      "       <Info>        pixelhop_feature.shape: (3120, 64, 4, 9)\n",
      "       <Info>        training_data.shape: (798720, 9)\n",
      "       <Info>        Num of kernels: 9\n",
      "       <Info>        Energy percent: 1.000000\n",
      "       <Info>        Sample patches shape after flatten: (798720, 9)\n",
      "       <Info>        Kernel shape: (9, 9)\n",
      "       <Info>        Transformed shape: (798720, 9)\n",
      "       <Info>        Save pca params as name: ../weight/pixelhop1.pkl\n",
      "------------------- End: Saab transformation -> using   0.662995 seconds\n",
      "------------------- Start: Pixelhop_fit\n",
      "       <Info>        Using weight: ../weight/pixelhop1.pkl\n",
      "       <Info>        Transformed feature shape: (3120, 64, 4, 9)\n",
      "------------------- End: Pixelhop_fit -> using   0.109004 seconds\n",
      "       <Info>        Output feature shape: (3120, 64, 4, 9)\n",
      "=========== End: PixelHop_Unit -> using   0.807998 seconds\n",
      "--------Train LAG Unit--------\n",
      "feature_train shape: (3120, 36)\n",
      "FINISH KMEANS 0\n"
     ]
    },
    {
     "name": "stderr",
     "output_type": "stream",
     "text": [
      "C:\\Users\\yoyo2\\anaconda3\\envs\\pytorch\\lib\\site-packages\\sklearn\\cluster\\_kmeans.py:1955: UserWarning: MiniBatchKMeans is known to have a memory leak on Windows with MKL, when there are less chunks than available threads. You can prevent it by setting batch_size >= 2048 or by setting the environment variable OMP_NUM_THREADS=4\n",
      "  warnings.warn(\n",
      "C:\\Users\\yoyo2\\anaconda3\\envs\\pytorch\\lib\\site-packages\\sklearn\\cluster\\_kmeans.py:1955: UserWarning: MiniBatchKMeans is known to have a memory leak on Windows with MKL, when there are less chunks than available threads. You can prevent it by setting batch_size >= 2048 or by setting the environment variable OMP_NUM_THREADS=4\n",
      "  warnings.warn(\n"
     ]
    },
    {
     "name": "stdout",
     "output_type": "stream",
     "text": [
      "FINISH KMEANS 1\n",
      "Alpha: 5\n",
      "0  Kmean training acc is: 0.7612179487179487\n",
      "=========== Start: PixelHop_Unit\n",
      "------------------- Start: PixelHop_8_Neighbour\n",
      "       <Info>        Input feature shape: (2080, 64, 4, 1)\n",
      "       <Info>        dilate: 1\n",
      "       <Info>        padding: reflect\n",
      "       <Info>        Output feature shape: (2080, 64, 4, 9)\n",
      "------------------- End: PixelHop_8_Neighbour -> using   0.028998 seconds\n",
      "------------------- Start: Pixelhop_fit\n",
      "       <Info>        Using weight: ../weight/pixelhop1.pkl\n",
      "       <Info>        Transformed feature shape: (2080, 64, 4, 9)\n",
      "------------------- End: Pixelhop_fit -> using   0.062002 seconds\n",
      "       <Info>        Output feature shape: (2080, 64, 4, 9)\n",
      "=========== End: PixelHop_Unit -> using   0.096000 seconds\n",
      "--------Testing--------\n",
      "***** Train ACC: 0.8451923076923077\n",
      "***** Test ACC: 0.8379807692307693\n"
     ]
    }
   ],
   "source": [
    "import numpy as np \n",
    "import cv2\n",
    "import time\n",
    "\n",
    "from framework.layer import *\n",
    "from framework.utli import *\n",
    "from framework.pixelhop import *\n",
    "from framework.data import *\n",
    "from framework.LAG import LAG_Unit\n",
    "\n",
    "from sklearn.model_selection import train_test_split\n",
    "from sklearn.metrics.pairwise import euclidean_distances\n",
    "from skimage.measure import block_reduce\n",
    "\n",
    "def myModel(x, getK=1):\n",
    "    x1 = PixelHop_Unit(x, dilate=1, pad='reflect', num_AC_kernels=9, weight_name='pixelhop1.pkl', getK=getK)\n",
    "\n",
    "    # x2 = PixelHop_Unit(x1, dilate=2, pad='reflect', num_AC_kernels=25, weight_name='pixelhop2.pkl', getK=getK)\n",
    "    # x2 = AvgPooling(x2)\n",
    "\n",
    "    # x3 = PixelHop_Unit(x2, dilate=2, pad='reflect', num_AC_kernels=35, weight_name='pixelhop3.pkl', getK=getK)\n",
    "    # x3 = AvgPooling(x3)\n",
    "\n",
    "    # x4 = PixelHop_Unit(x3, dilate=2, pad='reflect', num_AC_kernels=55, weight_name='pixelhop4.pkl', getK=getK)\n",
    "\n",
    "    # x2 = myResize(x2, x.shape[1], x.shape[2])\n",
    "    # x3 = myResize(x3, x.shape[1], x.shape[2])\n",
    "    # x4 = myResize(x4, x.shape[1], x.shape[2])\n",
    "    return x1\n",
    "\n",
    "SAVE={}\n",
    "train_feature=myModel(train_images, getK=1)\n",
    "# train_feature=PixelHop_Unit(train_images, dilate=1, pad='reflect', num_AC_kernels=9, weight_name='pixelhop1_mnist.pkl', getK=1)\n",
    "train_feature = block_reduce(train_feature, (1, 16, 4, 1), np.mean).reshape(len(train_images),-1)\n",
    "train_feature_reduce=LAG_Unit(train_feature,train_labels=train_labels, class_list=class_list,\n",
    "                         SAVE=SAVE,num_clusters=20,alpha=5,Train=True)\n",
    "test_feature=myModel(test_images, getK=0)\n",
    "# test_feature=PixelHop_Unit(test_images, dilate=1, pad='reflect', num_AC_kernels=9, weight_name='pixelhop1_mnist.pkl', getK=0)\n",
    "test_feature=block_reduce(test_feature, (1, 16, 4, 1), np.mean).reshape(len(test_images),-1)\n",
    "test_feature_reduce=LAG_Unit(test_feature,train_labels=None, class_list=class_list,\n",
    "                     SAVE=SAVE,num_clusters=20,alpha=5,Train=False)\n",
    "\n",
    "from sklearn.svm import SVC\n",
    "from sklearn.metrics import accuracy_score\n",
    "from sklearn import preprocessing\n",
    "scaler=preprocessing.StandardScaler()\n",
    "feature = scaler.fit_transform(train_feature_reduce)\n",
    "feature_test = scaler.transform(test_feature_reduce)     \n",
    "\n",
    "clf=SVC(kernel='linear').fit(feature, train_labels) \n",
    "##        clf=RandomForestClassifier(n_estimators=500,max_depth=5).fit(train_f, train_labels) \n",
    "print('***** Train ACC:', accuracy_score(train_labels,clf.predict(feature)))\n",
    "print('***** Test ACC:', accuracy_score(test_labels,clf.predict(feature_test)))"
   ]
  },
  {
   "cell_type": "code",
   "execution_count": 27,
   "id": "7494ec19-636a-4eb9-b76a-e8b3bf64404b",
   "metadata": {
    "scrolled": true
   },
   "outputs": [
    {
     "data": {
      "image/png": "[encoded data removed]",
      "text/plain": [
       "<Figure size 1000x600 with 1 Axes>"
      ]
     },
     "metadata": {},
     "output_type": "display_data"
    }
   ],
   "source": [
    "import matplotlib.pyplot as plt\n",
    "import numpy as np\n",
    "\n",
    "def calculate_accuracy_by_snr(test_labels, test_snrs, predictions):\n",
    "    unique_snrs = np.unique(test_snrs)\n",
    "    accuracies = []\n",
    "\n",
    "    for snr in unique_snrs:\n",
    "        mask = (test_snrs == snr)\n",
    "        correct = np.sum(predictions[mask] == test_labels[mask])\n",
    "        total = np.sum(mask)\n",
    "        accuracy = correct / total if total > 0 else 0\n",
    "        accuracies.append(accuracy)\n",
    "\n",
    "    return unique_snrs, accuracies\n",
    "\n",
    "\n",
    "test_predictions = clf.predict(feature_test)\n",
    "\n",
    "\n",
    "unique_snrs, accuracies = calculate_accuracy_by_snr(test_labels, test_snr, test_predictions)\n",
    "\n",
    "def plot_accuracy_by_snr(snrs, accuracies):\n",
    "    plt.figure(figsize=(10, 6))\n",
    "    plt.plot(snrs, accuracies, marker='o')\n",
    "    plt.title(\"Accuracy vs SNR\")\n",
    "    plt.xlabel(\"SNR\")\n",
    "    plt.ylabel(\"Accuracy\")\n",
    "    plt.grid(True)\n",
    "    plt.show()\n",
    "\n",
    "plot_accuracy_by_snr(unique_snrs, accuracies)"
   ]
  },
  {
   "cell_type": "code",
   "execution_count": null,
   "id": "89b862d8-0918-40e4-a84f-dce7f2ba6402",
   "metadata": {},
   "outputs": [],
   "source": []
  },
  {
   "cell_type": "code",
   "execution_count": null,
   "id": "0e277e5e-dbc0-4cda-b537-e25beada1bf2",
   "metadata": {},
   "outputs": [],
   "source": []
  }
 ],
 "metadata": {
  "kernelspec": {
   "display_name": "Python 3 (ipykernel)",
   "language": "python",
   "name": "python3"
  },
  "language_info": {
   "codemirror_mode": {
    "name": "ipython",
    "version": 3
   },
   "file_extension": ".py",
   "mimetype": "text/x-python",
   "name": "python",
   "nbconvert_exporter": "python",
   "pygments_lexer": "ipython3",
   "version": "3.9.21"
  }
 },
 "nbformat": 4,
 "nbformat_minor": 5
}
